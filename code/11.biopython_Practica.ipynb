{
 "cells": [
  {
   "cell_type": "markdown",
   "metadata": {},
   "source": [
    "# Práctica de Biopython\n",
    "\n",
    "A continuación se integrarán en equipos de 4 personas para realizar la siguiente práctica.\n",
    "\n",
    "El coronavirus SARS-CoV-2 tiene una proteína llamada spike (S), que es una glicoproteína tipo I que se encuentra en la superficie del virus y puede hacer contacto con la célula hospedera. Nos interesa conocer qué tan parecida es esta secuencia con el virus SARS-CoV. Ambos coronavirus, SARS-CoV-2 y SARS-CoV están relacionados y pertenecen al subgénero sarbecvirus de los Coronaviridae, entonces se espera que dichos virus sean muy parecidos. \n",
    "\n",
    "Por otro lado, el gen ACE2 (Angiotensin-converting enzyme 2) es un gen del humano que ha llamado la atención recientemente porque promueve la entrada de SARS-CoV-2 en las células. Realizando una simulación estructural es posible identificar el contacto de ACE2 con la proteína S. De acuerdo con la literatura (https://www.ncbi.nlm.nih.gov/pmc/articles/PMC7102515/) los aminoácidos que hacen contacto con SARS-CoV son: Y442, L472, N479, D480, T487, Y491. Y los que hacen contacto con SARS-CoV-2 son: L455, F486, Q493, S494, N501 and Y505.\n",
    "\n",
    "\n",
    "El ejercicio consiste en:\n",
    "\n",
    "1. Obtener la secuencia de la proteína S del coronavirus SARS-CoV-2\n",
    "2. Obtener la proteína S del coronavirus SARS-CoV (NP_828851.1)\n",
    "3. Realizar el alineamiento de ambas proteínas\n",
    "4. Seleccionar únicamente la región del alineamiento que muestra estos residuos\n",
    "5. ¿Qué más se les ocurre que puedan responder usando Biopython? \n",
    "\n",
    "\n",
    "\n"
   ]
  },
  {
   "cell_type": "code",
   "execution_count": null,
   "metadata": {},
   "outputs": [],
   "source": []
  }
 ],
 "metadata": {
  "kernelspec": {
   "display_name": "Python 3",
   "language": "python",
   "name": "python3"
  },
  "language_info": {
   "codemirror_mode": {
    "name": "ipython",
    "version": 3
   },
   "file_extension": ".py",
   "mimetype": "text/x-python",
   "name": "python",
   "nbconvert_exporter": "python",
   "pygments_lexer": "ipython3",
   "version": "3.7.6"
  }
 },
 "nbformat": 4,
 "nbformat_minor": 4
}
