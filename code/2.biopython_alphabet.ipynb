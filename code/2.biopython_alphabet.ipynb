{
 "cells": [
  {
   "cell_type": "markdown",
   "metadata": {},
   "source": [
    "# Componentes de Biopython\n",
    "\n",
    "Biopython tiene varios módulos que facilitan algunas tareas básicas de los laboratorios de biología molecular. "
   ]
  },
  {
   "cell_type": "markdown",
   "metadata": {},
   "source": [
    "## Alphabet (Vigente 2020 - es posible que sea eliminado)\n",
    "https://github.com/biopython/biopython/issues/2046\n",
    "\n",
    "https://biopython.org/DIST/docs/api/Bio.Alphabet-module.html\n",
    "\n",
    "https://biopython.org/DIST/docs/api/module-tree.html\n",
    "\n",
    "En bioinformática se manejan secuencias. Por ejemplo el ADN lo representamos como (A,C,T,G), y las proteínas tienen también una representación usando letras del alfabeto. También están los alfabetos especiales que contemplan posiciones ambiguas, por ejemplo las que representan más de un nucleótico (e.g., la letra S representa C o G). Si no recordamos el significado podemos ver https://www.bioinformatics.org/sms/iupac.html. En Biopython a esto se le llama **ambiguous_dna**, donde el ADN estaría en **ExtendedIUPACDNA**, y el diccionario de proteínas en **ExtendedIUPACProtein**. También existe un alfabeto que no es ni de ADN ni de proteínas, es el **SecondaryStructure** que representa dominios como los de tipo **H**elix, **T**urn, **S**trand y **C**oil. \n",
    "\n",
    "Los alfabetos definidos por IUPAC son almacenados en Biopython como clases del módulo IUPAC. El módulo parental (**Bio.Alphabet**) incluye casos más generales o genéricos. A continuación se muestran algunos atributos de los alfabetos:"
   ]
  },
  {
   "cell_type": "code",
   "execution_count": 1,
   "metadata": {},
   "outputs": [],
   "source": [
    "import Bio.Alphabet"
   ]
  },
  {
   "cell_type": "code",
   "execution_count": 2,
   "metadata": {},
   "outputs": [
    {
     "data": {
      "text/plain": [
       "['Ala',\n",
       " 'Asx',\n",
       " 'Cys',\n",
       " 'Asp',\n",
       " 'Glu',\n",
       " 'Phe',\n",
       " 'Gly',\n",
       " 'His',\n",
       " 'Ile',\n",
       " 'Lys',\n",
       " 'Leu',\n",
       " 'Met',\n",
       " 'Asn',\n",
       " 'Pro',\n",
       " 'Gln',\n",
       " 'Arg',\n",
       " 'Ser',\n",
       " 'Thr',\n",
       " 'Sec',\n",
       " 'Val',\n",
       " 'Trp',\n",
       " 'Xaa',\n",
       " 'Tyr',\n",
       " 'Glx']"
      ]
     },
     "execution_count": 2,
     "metadata": {},
     "output_type": "execute_result"
    }
   ],
   "source": [
    "Bio.Alphabet.ThreeLetterProtein.letters"
   ]
  },
  {
   "cell_type": "code",
   "execution_count": 4,
   "metadata": {},
   "outputs": [
    {
     "data": {
      "text/plain": [
       "['Alphabet',\n",
       " 'ExtendedIUPACDNA',\n",
       " 'ExtendedIUPACProtein',\n",
       " 'IUPACAmbiguousDNA',\n",
       " 'IUPACAmbiguousRNA',\n",
       " 'IUPACData',\n",
       " 'IUPACProtein',\n",
       " 'IUPACUnambiguousDNA',\n",
       " 'IUPACUnambiguousRNA',\n",
       " '__builtins__',\n",
       " '__cached__',\n",
       " '__doc__',\n",
       " '__file__',\n",
       " '__loader__',\n",
       " '__name__',\n",
       " '__package__',\n",
       " '__spec__',\n",
       " 'ambiguous_dna',\n",
       " 'ambiguous_rna',\n",
       " 'extended_dna',\n",
       " 'extended_protein',\n",
       " 'protein',\n",
       " 'unambiguous_dna',\n",
       " 'unambiguous_rna']"
      ]
     },
     "execution_count": 4,
     "metadata": {},
     "output_type": "execute_result"
    }
   ],
   "source": [
    "from Bio.Alphabet import IUPAC\n",
    "dir(IUPAC)"
   ]
  },
  {
   "cell_type": "code",
   "execution_count": 5,
   "metadata": {},
   "outputs": [
    {
     "data": {
      "text/plain": [
       "'ACDEFGHIKLMNPQRSTVWY'"
      ]
     },
     "execution_count": 5,
     "metadata": {},
     "output_type": "execute_result"
    }
   ],
   "source": [
    "IUPAC.IUPACProtein.letters"
   ]
  },
  {
   "cell_type": "code",
   "execution_count": 6,
   "metadata": {},
   "outputs": [
    {
     "data": {
      "text/plain": [
       "'GATCRYWSMKHBVDN'"
      ]
     },
     "execution_count": 6,
     "metadata": {},
     "output_type": "execute_result"
    }
   ],
   "source": [
    "IUPAC.ambiguous_dna.letters"
   ]
  },
  {
   "cell_type": "code",
   "execution_count": 7,
   "metadata": {},
   "outputs": [
    {
     "data": {
      "text/plain": [
       "'GAUCRYWSMKHBVDN'"
      ]
     },
     "execution_count": 7,
     "metadata": {},
     "output_type": "execute_result"
    }
   ],
   "source": [
    "IUPAC.ambiguous_rna.letters"
   ]
  },
  {
   "cell_type": "code",
   "execution_count": 8,
   "metadata": {},
   "outputs": [
    {
     "data": {
      "text/plain": [
       "'ACDEFGHIKLMNPQRSTVWYBXZJUO'"
      ]
     },
     "execution_count": 8,
     "metadata": {},
     "output_type": "execute_result"
    }
   ],
   "source": [
    "IUPAC.ExtendedIUPACProtein.letters"
   ]
  },
  {
   "cell_type": "code",
   "execution_count": 9,
   "metadata": {},
   "outputs": [
    {
     "data": {
      "text/plain": [
       "'GATCBDSW'"
      ]
     },
     "execution_count": 9,
     "metadata": {},
     "output_type": "execute_result"
    }
   ],
   "source": [
    "IUPAC.ExtendedIUPACDNA.letters"
   ]
  },
  {
   "cell_type": "markdown",
   "metadata": {},
   "source": [
    "Los alfabetos se usan para definir el contenido de una secuencia. Si las secuencias se guardarán como strings no podríamos saber qué tipo de secuencia es \"CCGGGTT\" - si es un péptido pequeño (Con Cisteínas, Glicinas y Treoninas), o es una secuencia de ADN.  "
   ]
  },
  {
   "cell_type": "code",
   "execution_count": null,
   "metadata": {},
   "outputs": [],
   "source": []
  }
 ],
 "metadata": {
  "kernelspec": {
   "display_name": "Python 3",
   "language": "python",
   "name": "python3"
  },
  "language_info": {
   "codemirror_mode": {
    "name": "ipython",
    "version": 3
   },
   "file_extension": ".py",
   "mimetype": "text/x-python",
   "name": "python",
   "nbconvert_exporter": "python",
   "pygments_lexer": "ipython3",
   "version": "3.7.6"
  }
 },
 "nbformat": 4,
 "nbformat_minor": 4
}
