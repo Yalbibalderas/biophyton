{
 "cells": [
  {
   "cell_type": "code",
   "execution_count": 1,
   "metadata": {},
   "outputs": [],
   "source": [
    "from Bio.Alphabet import generic_protein\n",
    "from Bio.Align import MultipleSeqAlignment\n",
    "from Bio.Seq import Seq\n",
    "from Bio.SeqRecord import SeqRecord"
   ]
  },
  {
   "cell_type": "code",
   "execution_count": 2,
   "metadata": {},
   "outputs": [],
   "source": [
    "seq1 = 'MHQAIFIYQIGYPLKSGYIQSIRSPEYDNW'\n",
    "seq2 = 'MH--IFIYQIGYALKSGYIQSIRSPEY-NW'"
   ]
  },
  {
   "cell_type": "code",
   "execution_count": 7,
   "metadata": {},
   "outputs": [
    {
     "name": "stdout",
     "output_type": "stream",
     "text": [
      "ID: asp\n",
      "Name: <unknown name>\n",
      "Description: <unknown description>\n",
      "Number of features: 0\n",
      "Seq('MHQAIFIYQIGYPLKSGYIQSIRSPEYDNW', ProteinAlphabet())\n"
     ]
    }
   ],
   "source": [
    "seq_rec_1 = SeqRecord(Seq(seq1, generic_protein), id='asp')\n",
    "print(seq_rec_1)"
   ]
  },
  {
   "cell_type": "code",
   "execution_count": 6,
   "metadata": {},
   "outputs": [
    {
     "name": "stdout",
     "output_type": "stream",
     "text": [
      "ID: asp\n",
      "Name: <unknown name>\n",
      "Description: <unknown description>\n",
      "Number of features: 0\n",
      "Seq('MHQAIFIYQIGYPLKSGYIQSIRSPEYDNW', ProteinAlphabet())\n"
     ]
    }
   ],
   "source": [
    "seq_rec_2 = SeqRecord(Seq(seq2, generic_protein), id='unk')\n",
    "print(seq_rec_1)"
   ]
  },
  {
   "cell_type": "code",
   "execution_count": 9,
   "metadata": {},
   "outputs": [
    {
     "name": "stdout",
     "output_type": "stream",
     "text": [
      "ProteinAlphabet() alignment with 2 rows and 30 columns\n",
      "MHQAIFIYQIGYPLKSGYIQSIRSPEYDNW asp\n",
      "MH--IFIYQIGYALKSGYIQSIRSPEY-NW unk\n"
     ]
    }
   ],
   "source": [
    "align = MultipleSeqAlignment([seq_rec_1, seq_rec_2])\n",
    "print(align)"
   ]
  },
  {
   "cell_type": "code",
   "execution_count": 10,
   "metadata": {},
   "outputs": [
    {
     "name": "stdout",
     "output_type": "stream",
     "text": [
      "ID: cas\n",
      "Name: <unknown name>\n",
      "Description: <unknown description>\n",
      "Number of features: 0\n",
      "Seq('M---IFIYQIGYAAKSGYIQSIRSPEY--W', ProteinAlphabet())\n"
     ]
    }
   ],
   "source": [
    "seq3 = 'M---IFIYQIGYAAKSGYIQSIRSPEY--W'\n",
    "seq_rec_3 = SeqRecord(Seq(seq3, generic_protein), id='cas')\n",
    "print(seq_rec_3)"
   ]
  },
  {
   "cell_type": "code",
   "execution_count": 12,
   "metadata": {},
   "outputs": [
    {
     "name": "stdout",
     "output_type": "stream",
     "text": [
      "ProteinAlphabet() alignment with 4 rows and 30 columns\n",
      "MHQAIFIYQIGYPLKSGYIQSIRSPEYDNW asp\n",
      "MH--IFIYQIGYALKSGYIQSIRSPEY-NW unk\n",
      "M---IFIYQIGYAAKSGYIQSIRSPEY--W cas\n",
      "M---IFIYQIGYAAKSGYIQSIRSPEY--W cas\n"
     ]
    }
   ],
   "source": [
    "align.append(seq_rec_3)\n",
    "print(align)"
   ]
  },
  {
   "cell_type": "code",
   "execution_count": 13,
   "metadata": {},
   "outputs": [
    {
     "data": {
      "text/plain": [
       "SeqRecord(seq=Seq('MHQAIFIYQIGYPLKSGYIQSIRSPEYDNW', ProteinAlphabet()), id='asp', name='<unknown name>', description='<unknown description>', dbxrefs=[])"
      ]
     },
     "execution_count": 13,
     "metadata": {},
     "output_type": "execute_result"
    }
   ],
   "source": [
    "align[0]"
   ]
  },
  {
   "cell_type": "code",
   "execution_count": 14,
   "metadata": {},
   "outputs": [
    {
     "name": "stdout",
     "output_type": "stream",
     "text": [
      "ProteinAlphabet() alignment with 2 rows and 6 columns\n",
      "FIYQIG asp\n",
      "FIYQIG unk\n"
     ]
    }
   ],
   "source": [
    "print(align[:2,5:11])"
   ]
  },
  {
   "cell_type": "code",
   "execution_count": 15,
   "metadata": {},
   "outputs": [
    {
     "data": {
      "text/plain": [
       "4"
      ]
     },
     "execution_count": 15,
     "metadata": {},
     "output_type": "execute_result"
    }
   ],
   "source": [
    "len(align)"
   ]
  },
  {
   "cell_type": "code",
   "execution_count": 16,
   "metadata": {},
   "outputs": [],
   "source": [
    "from Bio.SeqUtils.ProtParam import ProteinAnalysis\n"
   ]
  },
  {
   "cell_type": "code",
   "execution_count": 17,
   "metadata": {},
   "outputs": [
    {
     "name": "stdout",
     "output_type": "stream",
     "text": [
      "6.50421142578125\n",
      "8.16033935546875\n",
      "8.13848876953125\n",
      "8.13848876953125\n"
     ]
    }
   ],
   "source": [
    "for seq in align:\n",
    "    print(ProteinAnalysis(str(seq.seq)).isoelectric_point())"
   ]
  },
  {
   "cell_type": "code",
   "execution_count": null,
   "metadata": {},
   "outputs": [],
   "source": []
  }
 ],
 "metadata": {
  "kernelspec": {
   "display_name": "Python 3",
   "language": "python",
   "name": "python3"
  },
  "language_info": {
   "codemirror_mode": {
    "name": "ipython",
    "version": 3
   },
   "file_extension": ".py",
   "mimetype": "text/x-python",
   "name": "python",
   "nbconvert_exporter": "python",
   "pygments_lexer": "ipython3",
   "version": "3.7.6"
  }
 },
 "nbformat": 4,
 "nbformat_minor": 4
}
